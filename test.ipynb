{
 "cells": [
  {
   "cell_type": "code",
   "execution_count": 1,
   "metadata": {},
   "outputs": [
    {
     "name": "stdout",
     "output_type": "stream",
     "text": [
      "22/11/18 07:26:30 WARN Utils: Your hostname, potato resolves to a loopback address: 127.0.1.1; using 192.168.43.253 instead (on interface wlp3s0)\n",
      "22/11/18 07:26:30 WARN Utils: Set SPARK_LOCAL_IP if you need to bind to another address\n"
     ]
    },
    {
     "name": "stderr",
     "output_type": "stream",
     "text": [
      "Setting default log level to \"WARN\".\n",
      "To adjust logging level use sc.setLogLevel(newLevel). For SparkR, use setLogLevel(newLevel).\n"
     ]
    },
    {
     "name": "stdout",
     "output_type": "stream",
     "text": [
      "22/11/18 07:26:31 WARN NativeCodeLoader: Unable to load native-hadoop library for your platform... using builtin-java classes where applicable\n"
     ]
    }
   ],
   "source": [
    "from pyspark.context import SparkContext\n",
    "from pyspark.sql.session import SparkSession\n",
    "sc = SparkContext('local')\n",
    "spark = SparkSession(sc)"
   ]
  },
  {
   "cell_type": "code",
   "execution_count": 2,
   "metadata": {},
   "outputs": [
    {
     "name": "stderr",
     "output_type": "stream",
     "text": [
      "[Stage 1:>                                                          (0 + 1) / 1]\r"
     ]
    },
    {
     "name": "stdout",
     "output_type": "stream",
     "text": [
      "root\n",
      " |-- _id: integer (nullable = true)\n",
      " |-- SiteId: integer (nullable = true)\n",
      " |-- Site_Name: string (nullable = true)\n",
      " |-- Site_Brand: string (nullable = true)\n",
      " |-- Sites_Address_Line_1: string (nullable = true)\n",
      " |-- Site_Suburb: string (nullable = true)\n",
      " |-- Site_State: string (nullable = true)\n",
      " |-- Site_Post_Code: integer (nullable = true)\n",
      " |-- Site_Latitude: double (nullable = true)\n",
      " |-- Site_Longitude: double (nullable = true)\n",
      " |-- Fuel_Type: string (nullable = true)\n",
      " |-- Price: integer (nullable = true)\n",
      " |-- TransactionDateutc: timestamp (nullable = true)\n",
      "\n"
     ]
    },
    {
     "name": "stderr",
     "output_type": "stream",
     "text": [
      "                                                                                \r"
     ]
    }
   ],
   "source": [
    "df = spark.read.format(\"csv\")\\\n",
    ".option(\"header\", \"true\")\\\n",
    ".option(\"inferSchema\", \"true\")\\\n",
    ".load(\"data/01_2022.csv\")\n",
    "df.printSchema()\n",
    "df.createOrReplaceTempView(\"dfTable\")"
   ]
  },
  {
   "cell_type": "code",
   "execution_count": 3,
   "metadata": {},
   "outputs": [
    {
     "name": "stdout",
     "output_type": "stream",
     "text": [
      "+---+--------+------------------+-----------+--------------------+-----------+----------+--------------+-------------+--------------+-----------+-----+-------------------+\n",
      "|_id|  SiteId|         Site_Name| Site_Brand|Sites_Address_Line_1|Site_Suburb|Site_State|Site_Post_Code|Site_Latitude|Site_Longitude|  Fuel_Type|Price| TransactionDateutc|\n",
      "+---+--------+------------------+-----------+--------------------+-----------+----------+--------------+-------------+--------------+-----------+-----+-------------------+\n",
      "|  1|61290151|   Surat 24/7 Fuel|Independent|  61 Burrowes Street|      SURAT|       QLD|          4417|   -27.151687|    149.067742|     Diesel| 1659|2022-01-20 02:56:00|\n",
      "|  2|61290151|   Surat 24/7 Fuel|Independent|  61 Burrowes Street|      SURAT|       QLD|          4417|   -27.151687|    149.067742|PULP 98 RON| 1859|2022-01-20 02:56:00|\n",
      "|  3|61290151|   Surat 24/7 Fuel|Independent|  61 Burrowes Street|      SURAT|       QLD|          4417|   -27.151687|    149.067742|   Unleaded| 1659|2022-01-20 02:56:00|\n",
      "|  4|61291313|Lowes Mungindi Opt|         BP|   126 Barwon Street|   Mungindi|       QLD|          4497|   -28.973467|    148.983829|     Diesel| 1680|2022-01-24 21:46:00|\n",
      "|  5|61291313|Lowes Mungindi Opt|         BP|   126 Barwon Street|   Mungindi|       QLD|          4497|   -28.973467|    148.983829|   Unleaded| 1710|2022-01-24 21:46:00|\n",
      "+---+--------+------------------+-----------+--------------------+-----------+----------+--------------+-------------+--------------+-----------+-----+-------------------+\n",
      "only showing top 5 rows\n",
      "\n"
     ]
    }
   ],
   "source": [
    "df.show(5)"
   ]
  },
  {
   "cell_type": "code",
   "execution_count": 4,
   "metadata": {},
   "outputs": [
    {
     "data": {
      "text/plain": [
       "DataFrame[5: int, five: string, 5.0: double]"
      ]
     },
     "execution_count": 4,
     "metadata": {},
     "output_type": "execute_result"
    }
   ],
   "source": [
    "from pyspark.sql.functions import lit\n",
    "df.select(lit(5), lit(\"five\"), lit(5.0))"
   ]
  },
  {
   "cell_type": "code",
   "execution_count": 6,
   "metadata": {},
   "outputs": [
    {
     "name": "stdout",
     "output_type": "stream",
     "text": [
      "+-----+---------+------------------+----------+\n",
      "|Price|Fuel_Type|Site_Name         |Site_Brand|\n",
      "+-----+---------+------------------+----------+\n",
      "|1680 |Diesel   |Lowes Mungindi Opt|BP        |\n",
      "|1710 |Unleaded |Lowes Mungindi Opt|BP        |\n",
      "|1584 |e10      |7-Eleven Coomera  |7 Eleven  |\n",
      "|1579 |e10      |7-Eleven Coomera  |7 Eleven  |\n",
      "|1879 |e10      |7-Eleven Coomera  |7 Eleven  |\n",
      "+-----+---------+------------------+----------+\n",
      "only showing top 5 rows\n",
      "\n"
     ]
    }
   ],
   "source": [
    "from pyspark.sql.functions import col\n",
    "df.where(col(\"SiteId\") != 61290151)\\\n",
    ".select(\"Price\", \"Fuel_Type\", \"Site_Name\", \"Site_Brand\")\\\n",
    ".show(5, False)"
   ]
  },
  {
   "cell_type": "code",
   "execution_count": 7,
   "metadata": {},
   "outputs": [
    {
     "name": "stdout",
     "output_type": "stream",
     "text": [
      "+-----+---------+------------------+----------+\n",
      "|Price|Fuel_Type|         Site_Name|Site_Brand|\n",
      "+-----+---------+------------------+----------+\n",
      "| 1680|   Diesel|Lowes Mungindi Opt|        BP|\n",
      "| 1710| Unleaded|Lowes Mungindi Opt|        BP|\n",
      "| 1584|      e10|  7-Eleven Coomera|  7 Eleven|\n",
      "| 1579|      e10|  7-Eleven Coomera|  7 Eleven|\n",
      "| 1879|      e10|  7-Eleven Coomera|  7 Eleven|\n",
      "+-----+---------+------------------+----------+\n",
      "only showing top 5 rows\n",
      "\n"
     ]
    }
   ],
   "source": [
    "from pyspark.sql.functions import col\n",
    "df.where(col(\"SiteId\") != 61290151)\\\n",
    ".select(\"Price\", \"Fuel_Type\", \"Site_Name\", \"Site_Brand\")\\\n",
    ".show(5, True)"
   ]
  },
  {
   "cell_type": "code",
   "execution_count": 8,
   "metadata": {},
   "outputs": [
    {
     "name": "stdout",
     "output_type": "stream",
     "text": [
      "+---+--------+---------------+-----------+--------------------+-----------+----------+--------------+-------------+--------------+-----------+-----+-------------------+\n",
      "|_id|SiteId  |Site_Name      |Site_Brand |Sites_Address_Line_1|Site_Suburb|Site_State|Site_Post_Code|Site_Latitude|Site_Longitude|Fuel_Type  |Price|TransactionDateutc |\n",
      "+---+--------+---------------+-----------+--------------------+-----------+----------+--------------+-------------+--------------+-----------+-----+-------------------+\n",
      "|1  |61290151|Surat 24/7 Fuel|Independent|61 Burrowes Street  |SURAT      |QLD       |4417          |-27.151687   |149.067742    |Diesel     |1659 |2022-01-20 02:56:00|\n",
      "|2  |61290151|Surat 24/7 Fuel|Independent|61 Burrowes Street  |SURAT      |QLD       |4417          |-27.151687   |149.067742    |PULP 98 RON|1859 |2022-01-20 02:56:00|\n",
      "|3  |61290151|Surat 24/7 Fuel|Independent|61 Burrowes Street  |SURAT      |QLD       |4417          |-27.151687   |149.067742    |Unleaded   |1659 |2022-01-20 02:56:00|\n",
      "+---+--------+---------------+-----------+--------------------+-----------+----------+--------------+-------------+--------------+-----------+-----+-------------------+\n",
      "\n",
      "+---+--------+------------------+----------+--------------------+-----------+----------+--------------+-------------+--------------+---------+-----+-------------------+\n",
      "|_id|SiteId  |Site_Name         |Site_Brand|Sites_Address_Line_1|Site_Suburb|Site_State|Site_Post_Code|Site_Latitude|Site_Longitude|Fuel_Type|Price|TransactionDateutc |\n",
      "+---+--------+------------------+----------+--------------------+-----------+----------+--------------+-------------+--------------+---------+-----+-------------------+\n",
      "|4  |61291313|Lowes Mungindi Opt|BP        |126 Barwon Street   |Mungindi   |QLD       |4497          |-28.973467   |148.983829    |Diesel   |1680 |2022-01-24 21:46:00|\n",
      "|5  |61291313|Lowes Mungindi Opt|BP        |126 Barwon Street   |Mungindi   |QLD       |4497          |-28.973467   |148.983829    |Unleaded |1710 |2022-01-24 21:46:00|\n",
      "|6  |61401007|7-Eleven Coomera  |7 Eleven  |Pacific Highway     |Coomera    |QLD       |4209          |-27.868591   |153.314206    |e10      |1584 |2021-12-31 18:20:00|\n",
      "|7  |61401007|7-Eleven Coomera  |7 Eleven  |Pacific Highway     |Coomera    |QLD       |4209          |-27.868591   |153.314206    |e10      |1579 |2022-01-03 23:15:00|\n",
      "|8  |61401007|7-Eleven Coomera  |7 Eleven  |Pacific Highway     |Coomera    |QLD       |4209          |-27.868591   |153.314206    |e10      |1879 |2022-01-07 00:40:00|\n",
      "|9  |61401007|7-Eleven Coomera  |7 Eleven  |Pacific Highway     |Coomera    |QLD       |4209          |-27.868591   |153.314206    |e10      |1869 |2022-01-12 23:01:00|\n",
      "|10 |61401007|7-Eleven Coomera  |7 Eleven  |Pacific Highway     |Coomera    |QLD       |4209          |-27.868591   |153.314206    |e10      |1819 |2022-01-19 20:28:00|\n",
      "|11 |61401007|7-Eleven Coomera  |7 Eleven  |Pacific Highway     |Coomera    |QLD       |4209          |-27.868591   |153.314206    |e10      |1809 |2022-01-24 23:47:00|\n",
      "|12 |61401007|7-Eleven Coomera  |7 Eleven  |Pacific Highway     |Coomera    |QLD       |4209          |-27.868591   |153.314206    |e10      |1799 |2022-01-25 02:56:00|\n",
      "|13 |61401007|7-Eleven Coomera  |7 Eleven  |Pacific Highway     |Coomera    |QLD       |4209          |-27.868591   |153.314206    |e10      |1779 |2022-01-30 04:17:00|\n",
      "+---+--------+------------------+----------+--------------------+-----------+----------+--------------+-------------+--------------+---------+-----+-------------------+\n",
      "only showing top 10 rows\n",
      "\n"
     ]
    }
   ],
   "source": [
    "df.where(\"SiteId = 61290151\").show(10, False)\n",
    "df.where(\"SiteId <> 61290151\").show(10, False)"
   ]
  },
  {
   "cell_type": "code",
   "execution_count": 17,
   "metadata": {},
   "outputs": [
    {
     "name": "stdout",
     "output_type": "stream",
     "text": [
      "+---+--------+----------------+----------+--------------------+-----------+----------+--------------+-------------+--------------+---------+-----+-------------------+\n",
      "|_id|  SiteId|       Site_Name|Site_Brand|Sites_Address_Line_1|Site_Suburb|Site_State|Site_Post_Code|Site_Latitude|Site_Longitude|Fuel_Type|Price| TransactionDateutc|\n",
      "+---+--------+----------------+----------+--------------------+-----------+----------+--------------+-------------+--------------+---------+-----+-------------------+\n",
      "|  6|61401007|7-Eleven Coomera|  7 Eleven|     Pacific Highway|    Coomera|       QLD|          4209|   -27.868591|    153.314206|      e10| 1584|2021-12-31 18:20:00|\n",
      "|  7|61401007|7-Eleven Coomera|  7 Eleven|     Pacific Highway|    Coomera|       QLD|          4209|   -27.868591|    153.314206|      e10| 1579|2022-01-03 23:15:00|\n",
      "|  8|61401007|7-Eleven Coomera|  7 Eleven|     Pacific Highway|    Coomera|       QLD|          4209|   -27.868591|    153.314206|      e10| 1879|2022-01-07 00:40:00|\n",
      "|  9|61401007|7-Eleven Coomera|  7 Eleven|     Pacific Highway|    Coomera|       QLD|          4209|   -27.868591|    153.314206|      e10| 1869|2022-01-12 23:01:00|\n",
      "| 10|61401007|7-Eleven Coomera|  7 Eleven|     Pacific Highway|    Coomera|       QLD|          4209|   -27.868591|    153.314206|      e10| 1819|2022-01-19 20:28:00|\n",
      "| 11|61401007|7-Eleven Coomera|  7 Eleven|     Pacific Highway|    Coomera|       QLD|          4209|   -27.868591|    153.314206|      e10| 1809|2022-01-24 23:47:00|\n",
      "| 12|61401007|7-Eleven Coomera|  7 Eleven|     Pacific Highway|    Coomera|       QLD|          4209|   -27.868591|    153.314206|      e10| 1799|2022-01-25 02:56:00|\n",
      "| 13|61401007|7-Eleven Coomera|  7 Eleven|     Pacific Highway|    Coomera|       QLD|          4209|   -27.868591|    153.314206|      e10| 1779|2022-01-30 04:17:00|\n",
      "| 14|61401007|7-Eleven Coomera|  7 Eleven|     Pacific Highway|    Coomera|       QLD|          4209|   -27.868591|    153.314206|      e10| 1739|2022-01-30 20:39:00|\n",
      "| 15|61401007|7-Eleven Coomera|  7 Eleven|     Pacific Highway|    Coomera|       QLD|          4209|   -27.868591|    153.314206|      LPG| 1099|2021-12-31 18:20:00|\n",
      "+---+--------+----------------+----------+--------------------+-----------+----------+--------------+-------------+--------------+---------+-----+-------------------+\n",
      "only showing top 10 rows\n",
      "\n"
     ]
    }
   ],
   "source": [
    "df.where(\"Sites_Address_Line_1 like 'Pacific%'\").show(10, True)"
   ]
  },
  {
   "cell_type": "code",
   "execution_count": 19,
   "metadata": {},
   "outputs": [
    {
     "name": "stdout",
     "output_type": "stream",
     "text": [
      "+-----+-----------+\n",
      "|Price|isExpensive|\n",
      "+-----+-----------+\n",
      "| 1659|       true|\n",
      "| 1859|       true|\n",
      "| 1659|       true|\n",
      "| 1680|       true|\n",
      "| 1710|       true|\n",
      "+-----+-----------+\n",
      "only showing top 5 rows\n",
      "\n"
     ]
    }
   ],
   "source": [
    "from pyspark.sql.functions import instr\n",
    "Site_State = col(\"Site_State\") == \"QLD\"\n",
    "priceFilter = col(\"Price\") > 1600\n",
    "df.withColumn(\"isExpensive\", Site_State & priceFilter)\\\n",
    ".where(\"isExpensive\")\\\n",
    ".select(\"Price\", \"isExpensive\").show(5)"
   ]
  },
  {
   "cell_type": "code",
   "execution_count": 20,
   "metadata": {},
   "outputs": [
    {
     "name": "stdout",
     "output_type": "stream",
     "text": [
      "+----------+----------+\n",
      "|min(Price)|max(Price)|\n",
      "+----------+----------+\n",
      "|       149|      9999|\n",
      "+----------+----------+\n",
      "\n"
     ]
    }
   ],
   "source": [
    "from pyspark.sql.functions import min, max\n",
    "df.select(min(\"Price\"), max(\"Price\")).show()"
   ]
  }
 ],
 "metadata": {
  "kernelspec": {
   "display_name": "Python 3.8.10 64-bit",
   "language": "python",
   "name": "python3"
  },
  "language_info": {
   "codemirror_mode": {
    "name": "ipython",
    "version": 3
   },
   "file_extension": ".py",
   "mimetype": "text/x-python",
   "name": "python",
   "nbconvert_exporter": "python",
   "pygments_lexer": "ipython3",
   "version": "3.8.10"
  },
  "orig_nbformat": 4,
  "vscode": {
   "interpreter": {
    "hash": "916dbcbb3f70747c44a77c7bcd40155683ae19c65e1c03b4aa3499c5328201f1"
   }
  }
 },
 "nbformat": 4,
 "nbformat_minor": 2
}
